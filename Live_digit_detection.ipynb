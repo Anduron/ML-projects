{
 "cells": [
  {
   "cell_type": "code",
   "execution_count": 1,
   "metadata": {},
   "outputs": [
    {
     "name": "stdout",
     "output_type": "stream",
     "text": [
      "Using matplotlib backend: Qt5Agg\n"
     ]
    }
   ],
   "source": [
    "%matplotlib auto\n",
    "import os\n",
    "import sys\n",
    "import numpy as np\n",
    "import cv2\n",
    "import matplotlib.pyplot as plt\n",
    "from PIL import Image\n",
    "import pandas as pd\n",
    "import seaborn as sns\n",
    "import shap\n",
    "import xgboost as xgb\n",
    "\n",
    "\n",
    "import torch\n",
    "import torchvision\n",
    "import torch.nn as nn\n",
    "import torch.nn.functional as F\n",
    "import torch.optim as optim\n",
    "import torch.utils.data.dataloader as dataloader\n",
    "\n",
    "import sklearn.datasets as datasets\n",
    "from sklearn.model_selection import train_test_split\n",
    "from sklearn.metrics import accuracy_score"
   ]
  },
  {
   "cell_type": "code",
   "execution_count": 17,
   "metadata": {},
   "outputs": [],
   "source": [
    "class CNNClassifier(nn.Module):\n",
    "    def __init__(self):\n",
    "        super(CNNClassifier, self).__init__()\n",
    "        \n",
    "        channels_conv1 = 1\n",
    "        \n",
    "        self.Conv_Layers = nn.Sequential(\n",
    "            nn.Conv2d(channels_conv1,10,kernel_size=5),\n",
    "            nn.MaxPool2d(kernel_size=2),\n",
    "            nn.ReLU(),\n",
    "            nn.Conv2d(10, 20, kernel_size=3),\n",
    "            nn.Dropout2d(),\n",
    "            nn.MaxPool2d(kernel_size=2),\n",
    "            nn.ReLU(),\n",
    "        )\n",
    "        \n",
    "        self.Linear_Layers = nn.Sequential(\n",
    "            nn.Linear(500,64),\n",
    "            nn.ReLU(),\n",
    "            nn.Linear(64,10),\n",
    "            nn.ReLU(),\n",
    "            nn.LogSoftmax(),\n",
    "        )\n",
    "        \n",
    "    def forward(self, x):\n",
    "        x = self.Conv_Layers(x)\n",
    "        x = torch.flatten(x, 1)\n",
    "        x = self.Linear_Layers(x)\n",
    "        \n",
    "        return x"
   ]
  },
  {
   "cell_type": "code",
   "execution_count": 3,
   "metadata": {},
   "outputs": [],
   "source": [
    "def cnn_config():\n",
    "\n",
    "    config = {\n",
    "          'batch_size_train':64,\n",
    "          'batch_size_test':1000,\n",
    "          'log_interval':40,      #How often to dislay (batch) loss during training\n",
    "          'epochs': 20,           #Number of epochs\n",
    "          'learning_rate': 0.0001,\n",
    "         }\n",
    "    return config"
   ]
  },
  {
   "cell_type": "code",
   "execution_count": 4,
   "metadata": {},
   "outputs": [],
   "source": [
    "def run_epoch(model, epoch, data_loader, optimizer, is_training, config):\n",
    "    if is_training==True: \n",
    "        model.train()\n",
    "    else:\n",
    "        model.eval()\n",
    "\n",
    "    total_loss = 0 \n",
    "    correct = 0 \n",
    "    labels_list = [0,1,2,3,4,5,6,7,8,9]\n",
    "\n",
    "    for batch_idx, (features,target) in enumerate(data_loader):\n",
    "        \n",
    "        if not is_training:\n",
    "            with torch.no_grad():\n",
    "                prediction = model(features)\n",
    "                loss = F.nll_loss(prediction,target)\n",
    "                total_loss = total_loss + loss.detach().cpu().numpy()  \n",
    "            \n",
    "        elif is_training:\n",
    "            prediction = model(features)\n",
    "            loss = F.nll_loss(prediction,target)\n",
    "            total_loss = total_loss + loss.detach().cpu().numpy() \n",
    "\n",
    "            #Update gradients based on loss\n",
    "            optimizer.zero_grad()\n",
    "            loss.backward()\n",
    "            optimizer.step()\n",
    "            \n",
    "\n",
    "        # Compute the correct classification\n",
    "        predicted_label = np.zeros(prediction.shape)\n",
    "        predicted_label = np.argmax(prediction.detach().numpy(), axis=-1)\n",
    "    loss_avg = total_loss / len(data_loader)\n",
    "    accuracy = accuracy_score(predicted_label, target)\n",
    "\n",
    "    print(f'Epoch={epoch} | loss = {total_loss/(batch_idx+1)} | accuracy = {accuracy}')\n",
    "    \n",
    "    return loss_avg, accuracy"
   ]
  },
  {
   "cell_type": "code",
   "execution_count": 5,
   "metadata": {},
   "outputs": [],
   "source": [
    "def run_prediction(model,features):\n",
    "    with torch.no_grad():\n",
    "        prediction = model(features)\n",
    "        predicted_label = np.zeros(prediction.shape)\n",
    "        predicted_label = np.argmax(prediction.detach().numpy(), axis=-1)\n",
    "    pred = F.softmax(prediction)\n",
    "    pred = pred.detach().numpy()\n",
    "    return predicted_label, np.max(pred)"
   ]
  },
  {
   "cell_type": "code",
   "execution_count": 6,
   "metadata": {},
   "outputs": [],
   "source": [
    "def compress_image(image, size):\n",
    "    U, s, V = np.linalg.svd(image,full_matrices=False)\n",
    "    op1 = np.dot(np.diag(s[:size]),V[:size,:])\n",
    "    compressed = np.dot(U[:,:size], op1)\n",
    "    return compressed"
   ]
  },
  {
   "cell_type": "code",
   "execution_count": 7,
   "metadata": {},
   "outputs": [],
   "source": [
    "def nothing(x):\n",
    "    pass"
   ]
  },
  {
   "cell_type": "code",
   "execution_count": 8,
   "metadata": {},
   "outputs": [],
   "source": [
    " def draw_on_gui(event, x, y, flags, params): #params\n",
    "    global draw, window\n",
    "    \n",
    "    if event == cv2.EVENT_LBUTTONDOWN:\n",
    "        draw=True\n",
    "        cv2.circle( window, (x,y), cv2.getTrackbarPos(\"Brush Size\", title), (255,255,255), -1 )\n",
    "        \n",
    "    elif event == cv2.EVENT_MOUSEMOVE:\n",
    "        if draw:\n",
    "            cv2.circle( window, (x,y), cv2.getTrackbarPos(\"Brush Size\", title), (255,255,255), -1 )\n",
    "    \n",
    "    elif event == cv2.EVENT_LBUTTONUP:\n",
    "        draw=False\n",
    "        cv2.circle( window, (x,y), cv2.getTrackbarPos(\"Brush Size\", title), (255,255,255), -1 )"
   ]
  },
  {
   "cell_type": "code",
   "execution_count": 9,
   "metadata": {},
   "outputs": [],
   "source": [
    "def clear_window(*args):\n",
    "    cv2.rectangle(window, (0,0), (839,839), (0,0,0),-1)\n",
    "    return window"
   ]
  },
  {
   "cell_type": "code",
   "execution_count": 10,
   "metadata": {},
   "outputs": [],
   "source": [
    "def update_loop(title, window,model):\n",
    "    count = 0\n",
    "    while True:\n",
    "        count += 1\n",
    "        cv2.imshow(title, window)\n",
    "        key = cv2.waitKey(1)\n",
    "        #print(draw)\n",
    "        if key==ord(\"q\"):\n",
    "            break\n",
    "        \n",
    "        cur = cv2.resize(window, dsize=(28, 28), interpolation=cv2.INTER_CUBIC)\n",
    "        cur = cur/255\n",
    "        \n",
    "        data = torch.tensor(cur)\n",
    "        data = data.double()\n",
    "        data.unsqueeze_(0).unsqueeze_(0)\n",
    "        pred, prob = run_prediction(model.double(),data)\n",
    "        \n",
    "        if count%100 == 0:\n",
    "            print(pred, prob)\n",
    "        \n",
    "        if count == 1000:\n",
    "            count = 0\n",
    "            \n",
    "    cv2.destroyAllWindows()\n",
    "    "
   ]
  },
  {
   "cell_type": "code",
   "execution_count": 11,
   "metadata": {},
   "outputs": [],
   "source": [
    "def show_images_from_batches(dataloader,k):\n",
    "    c = 1\n",
    "    for i, (image, target) in enumerate(dataloader):\n",
    "        plt.subplot(1, k, c)\n",
    "        plt.axis('off')\n",
    "        img = image[0,0,:,:]\n",
    "        plt.imshow(img, cmap=plt.cm.gray_r, interpolation='nearest')\n",
    "        if c==k:\n",
    "            break\n",
    "        c+=1\n",
    "    plt.show()"
   ]
  },
  {
   "cell_type": "code",
   "execution_count": 18,
   "metadata": {},
   "outputs": [
    {
     "name": "stdout",
     "output_type": "stream",
     "text": [
      "Epoch=0 | loss = 0.8719135157620983 | accuracy = 0.90625\n",
      "Epoch=0 | loss = 0.274331858754158 | accuracy = 0.937\n",
      "Epoch=1 | loss = 0.30603417793094223 | accuracy = 0.96875\n",
      "Epoch=1 | loss = 0.19327524453401565 | accuracy = 0.943\n",
      "Epoch=2 | loss = 0.23835919530931185 | accuracy = 0.9375\n",
      "Epoch=2 | loss = 0.15859853178262712 | accuracy = 0.943\n",
      "Epoch=3 | loss = 0.19974441211948643 | accuracy = 0.9375\n",
      "Epoch=3 | loss = 0.1269892029464245 | accuracy = 0.97\n",
      "Epoch=4 | loss = 0.17661763408751502 | accuracy = 0.96875\n",
      "Epoch=4 | loss = 0.10976491197943687 | accuracy = 0.973\n",
      "Epoch=5 | loss = 0.16206388694565815 | accuracy = 0.90625\n",
      "Epoch=5 | loss = 0.10216489359736443 | accuracy = 0.976\n",
      "Epoch=6 | loss = 0.15070726938331241 | accuracy = 0.9375\n",
      "Epoch=6 | loss = 0.09296474307775497 | accuracy = 0.976\n",
      "Epoch=7 | loss = 0.14099297164154967 | accuracy = 0.96875\n",
      "Epoch=7 | loss = 0.08550019338726997 | accuracy = 0.975\n",
      "Epoch=8 | loss = 0.13369282200606838 | accuracy = 0.96875\n",
      "Epoch=8 | loss = 0.08175333887338639 | accuracy = 0.976\n",
      "Epoch=9 | loss = 0.128464542190308 | accuracy = 0.90625\n",
      "Epoch=9 | loss = 0.0786026269197464 | accuracy = 0.977\n",
      "Epoch=10 | loss = 0.12435857909145767 | accuracy = 0.90625\n",
      "Epoch=10 | loss = 0.07460872605443 | accuracy = 0.978\n",
      "Epoch=11 | loss = 0.1201260795892238 | accuracy = 0.90625\n",
      "Epoch=11 | loss = 0.07058324217796326 | accuracy = 0.98\n",
      "Epoch=12 | loss = 0.11895906264339683 | accuracy = 1.0\n",
      "Epoch=12 | loss = 0.07281509898602963 | accuracy = 0.983\n",
      "Epoch=13 | loss = 0.11388865344401107 | accuracy = 0.9375\n",
      "Epoch=13 | loss = 0.0678611345589161 | accuracy = 0.978\n",
      "Epoch=14 | loss = 0.11281681868400592 | accuracy = 0.96875\n",
      "Epoch=14 | loss = 0.06568779647350312 | accuracy = 0.978\n",
      "Epoch=15 | loss = 0.11038216278910129 | accuracy = 1.0\n",
      "Epoch=15 | loss = 0.066261026263237 | accuracy = 0.98\n",
      "Epoch=16 | loss = 0.10841170946028886 | accuracy = 0.96875\n",
      "Epoch=16 | loss = 0.06392301879823208 | accuracy = 0.983\n",
      "Epoch=17 | loss = 0.10631588578863597 | accuracy = 0.96875\n",
      "Epoch=17 | loss = 0.06063559614121914 | accuracy = 0.98\n",
      "Epoch=18 | loss = 0.10437240813181663 | accuracy = 0.875\n",
      "Epoch=18 | loss = 0.06054048575460911 | accuracy = 0.988\n",
      "Epoch=19 | loss = 0.10443928668787802 | accuracy = 0.96875\n",
      "Epoch=19 | loss = 0.06050371192395687 | accuracy = 0.98\n"
     ]
    }
   ],
   "source": [
    "cconf = cnn_config()\n",
    "\n",
    "DL_train = torch.utils.data.DataLoader(\n",
    "  torchvision.datasets.MNIST('/files/', train=True, download=True,\n",
    "                             transform=torchvision.transforms.Compose([\n",
    "                               torchvision.transforms.ToTensor(),\n",
    "                               torchvision.transforms.Normalize(\n",
    "                                 (0.1307,), (0.3081,))\n",
    "                             ])), batch_size=cconf['batch_size_train'], shuffle=True)\n",
    "\n",
    "DL_test = torch.utils.data.DataLoader(\n",
    "  torchvision.datasets.MNIST('/files/', train=False, download=True,\n",
    "                             transform=torchvision.transforms.Compose([\n",
    "                               torchvision.transforms.ToTensor(),\n",
    "                               torchvision.transforms.Normalize(\n",
    "                                 (0.1307,), (0.3081,))\n",
    "                             ])),\n",
    "  batch_size=cconf['batch_size_test'], shuffle=True)\n",
    "\n",
    "CNNmodel = CNNClassifier()\n",
    "optimizer = optim.Adam(CNNmodel.parameters(), lr=0.0001, weight_decay=0.01)#001)\n",
    "\n",
    "loss_train = np.zeros(shape=cconf['epochs'])\n",
    "acc_train = np.zeros(shape=cconf['epochs'])\n",
    "loss_test = np.zeros(shape=cconf['epochs'])\n",
    "acc_test = np.zeros(shape=cconf['epochs'])\n",
    "\n",
    "for epoch in range(cconf['epochs']):\n",
    "    loss_train[epoch],acc_train[epoch] = run_epoch(CNNmodel,epoch,DL_train,optimizer,True,cconf)\n",
    "    loss_test[epoch],acc_test[epoch] = run_epoch(CNNmodel,epoch,DL_test,optimizer,False,cconf)"
   ]
  },
  {
   "cell_type": "code",
   "execution_count": 19,
   "metadata": {},
   "outputs": [
    {
     "data": {
      "image/png": "[encoded data removed]",
      "text/plain": [
       "<Figure size 432x288 with 5 Axes>"
      ]
     },
     "metadata": {
      "needs_background": "light"
     },
     "output_type": "display_data"
    }
   ],
   "source": [
    "show_images_from_batches(DL_train,5)"
   ]
  },
  {
   "cell_type": "code",
   "execution_count": 20,
   "metadata": {
    "scrolled": true
   },
   "outputs": [
    {
     "name": "stderr",
     "output_type": "stream",
     "text": [
      "Implicit dimension choice for softmax has been deprecated. Change the call to include dim=X as an argument.\n"
     ]
    },
    {
     "name": "stdout",
     "output_type": "stream",
     "text": [
      "[1] 0.11169279114911733\n",
      "[1] 0.11169279114911733\n",
      "[1] 0.11169279114911733\n",
      "[1] 0.11169279114911733\n",
      "[1] 0.11169279114911733\n",
      "[7] 0.38341753973179005\n",
      "[7] 0.7396335865956949\n",
      "[7] 0.7805701699977601\n",
      "[7] 0.7805701699977601\n",
      "[7] 0.7805701699977601\n",
      "[7] 0.7805701699977601\n",
      "[1] 0.11169279114911733\n",
      "[7] 0.14553674507108322\n",
      "[4] 0.4081658361185622\n",
      "[4] 0.7683701504837994\n",
      "[4] 0.7343809427552082\n",
      "[4] 0.7343809427552082\n",
      "[4] 0.7343809427552082\n",
      "[4] 0.7343809427552082\n",
      "[1] 0.11169279114911733\n",
      "[2] 0.17788731554202206\n",
      "[5] 0.3912382020865006\n",
      "[5] 0.7400580145916927\n",
      "[5] 0.7400580145916927\n",
      "[5] 0.7400580145916927\n",
      "[5] 0.7400580145916927\n",
      "[5] 0.7400580145916927\n",
      "[5] 0.7400580145916927\n",
      "[1] 0.11169279114911733\n",
      "[1] 0.7395728376457978\n",
      "[1] 0.7236740806629026\n",
      "[1] 0.7236740806629026\n",
      "[1] 0.7236740806629026\n",
      "[1] 0.7236740806629026\n",
      "[1] 0.11169279114911733\n",
      "[7] 0.3147987977349301\n",
      "[5] 0.41331409599681873\n",
      "[8] 0.658968903708815\n",
      "[8] 0.658968903708815\n",
      "[8] 0.658968903708815\n"
     ]
    }
   ],
   "source": [
    "title = \"Neural Network Guesser\"\n",
    "draw = False\n",
    "mat = np.zeros((840,840),np.uint8)#np.ones((840,840),np.uint8)*255\n",
    "\n",
    "cv2.namedWindow(title)\n",
    "\n",
    "window = cv2.rectangle(mat, (0,0), (839,839), (0,0,0),-1)\n",
    "cv2.createTrackbar(\"Brush Size\", title, 33, 50, nothing)\n",
    "cv2.createButton(\"Clear\", clear_window)\n",
    "cv2.setMouseCallback(title, draw_on_gui)\n",
    "update_loop(title, window, CNNmodel)"
   ]
  },
  {
   "cell_type": "code",
   "execution_count": 21,
   "metadata": {},
   "outputs": [
    {
     "data": {
      "text/plain": [
       "<matplotlib.image.AxesImage at 0x181970f4a20>"
      ]
     },
     "execution_count": 21,
     "metadata": {},
     "output_type": "execute_result"
    },
    {
     "data": {
      "image/png": "[encoded data removed]",
      "text/plain": [
       "<Figure size 432x288 with 1 Axes>"
      ]
     },
     "metadata": {
      "needs_background": "light"
     },
     "output_type": "display_data"
    }
   ],
   "source": [
    "\n",
    "cur = cv2.resize(window, dsize=(28, 28), interpolation=cv2.INTER_CUBIC)\n",
    "plt.imshow(cur, cmap=plt.cm.gray_r, interpolation='nearest')\n"
   ]
  },
  {
   "cell_type": "code",
   "execution_count": 16,
   "metadata": {},
   "outputs": [],
   "source": [
    "#ToDo: Make True GUI buttons, make a numberdisplay that updates instead of a print, \n",
    "#make a function to save image with corrsponding targetlabel, make it web\n",
    "#clean all code, make orderly filesystem"
   ]
  }
 ],
 "metadata": {
  "kernelspec": {
   "display_name": "Python 3",
   "language": "python",
   "name": "python3"
  },
  "language_info": {
   "codemirror_mode": {
    "name": "ipython",
    "version": 3
   },
   "file_extension": ".py",
   "mimetype": "text/x-python",
   "name": "python",
   "nbconvert_exporter": "python",
   "pygments_lexer": "ipython3",
   "version": "3.7.3"
  }
 },
 "nbformat": 4,
 "nbformat_minor": 5
}
