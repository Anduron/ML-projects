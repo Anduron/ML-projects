{
 "cells": [
  {
   "cell_type": "code",
   "execution_count": 1,
   "metadata": {},
   "outputs": [
    {
     "name": "stdout",
     "output_type": "stream",
     "text": [
      "Using matplotlib backend: Qt5Agg\n"
     ]
    }
   ],
   "source": [
    "%matplotlib auto\n",
    "import os\n",
    "import sys\n",
    "import numpy as np\n",
    "import cv2\n",
    "import matplotlib.pyplot as plt\n",
    "from PIL import Image\n",
    "import pandas as pd\n",
    "import seaborn as sns\n",
    "import shap\n",
    "import xgboost as xgb\n",
    "\n",
    "\n",
    "import torch\n",
    "import torchvision\n",
    "import torch.nn as nn\n",
    "import torch.nn.functional as F\n",
    "import torch.optim as optim\n",
    "import torch.utils.data.dataloader as dataloader\n",
    "\n",
    "import sklearn.datasets as datasets\n",
    "from sklearn.model_selection import train_test_split\n",
    "from sklearn.metrics import accuracy_score"
   ]
  },
  {
   "cell_type": "code",
   "execution_count": 2,
   "metadata": {},
   "outputs": [],
   "source": [
    "class CNNClassifier(nn.Module):\n",
    "    def __init__(self):\n",
    "        super(CNNClassifier, self).__init__()\n",
    "        channels_conv1 = 1\n",
    "        self.conv1 = nn.Conv2d(channels_conv1,10,kernel_size=5)\n",
    "        self.conv2 = nn.Conv2d(10,20,kernel_size=5)\n",
    "        self.conv2_drop = nn.Dropout2d()\n",
    "        self.fc1 = nn.Linear(320,64)\n",
    "        self.fc2 = nn.Linear(64,10)\n",
    "        #self.CNN = nn.Sequential(\n",
    "        #    nn.Conv2d(channels_conv1,10,kernel_size=5),\n",
    "        #    nn.MaxPool2d(kernel_size=2),\n",
    "        #    nn.ReLU(),\n",
    "        #    #nn.Linear(64,10),\n",
    "        #    nn.Conv2d(10, 1, kernel_size=5),\n",
    "        #    nn.MaxPool2d(kernel_size=2),#F.max_pool2d(,5),\n",
    "        #    nn.ReLU(),#F.relu(),\n",
    "        #    #nn.Linear(10,64),\n",
    "        #    nn.Linear(4,10),\n",
    "        #    nn.ReLU(),\n",
    "        #    nn.Softmax(),#F.log_softmax(),\n",
    "        #    \n",
    "        #)\n",
    "        \n",
    "    def forward(self, x):\n",
    "        x = F.relu(F.max_pool2d(self.conv1(x), 2))\n",
    "        x = F.relu(F.max_pool2d(self.conv2_drop(self.conv2(x)), 2))\n",
    "        x = x.view(-1, 320)\n",
    "        x = F.relu(self.fc1(x))\n",
    "        x = self.fc2(x)\n",
    "        x = F.log_softmax(x)\n",
    "        #x = self.CNN(x)\n",
    "        return x"
   ]
  },
  {
   "cell_type": "code",
   "execution_count": 3,
   "metadata": {},
   "outputs": [],
   "source": [
    "def cnn_config():\n",
    "\n",
    "    config = {\n",
    "          'batch_size_train':64,\n",
    "          'batch_size_test':1000,\n",
    "          'log_interval':40,      #How often to dislay (batch) loss during training\n",
    "          'epochs': 10,           #Number of epochs\n",
    "          'learning_rate': 0.0001,\n",
    "         }\n",
    "    return config"
   ]
  },
  {
   "cell_type": "code",
   "execution_count": 4,
   "metadata": {},
   "outputs": [],
   "source": [
    "def run_epoch(model, epoch, data_loader, optimizer, is_training, config):\n",
    "    if is_training==True: \n",
    "        model.train()\n",
    "    else:\n",
    "        model.eval()\n",
    "\n",
    "    total_loss = 0 \n",
    "    correct = 0 \n",
    "    labels_list = [0,1,2,3,4,5,6,7,8,9]\n",
    "\n",
    "    for batch_idx, (features,target) in enumerate(data_loader):\n",
    "        \n",
    "        if not is_training:\n",
    "            with torch.no_grad():\n",
    "                prediction = model(features)\n",
    "                loss = F.nll_loss(prediction,target)\n",
    "                total_loss = total_loss + loss.detach().cpu().numpy()  \n",
    "            \n",
    "        elif is_training:\n",
    "            prediction = model(features)\n",
    "            loss = F.nll_loss(prediction,target)\n",
    "            total_loss = total_loss + loss.detach().cpu().numpy() \n",
    "\n",
    "            #Update gradients based on loss\n",
    "            optimizer.zero_grad()\n",
    "            loss.backward()\n",
    "            optimizer.step()\n",
    "            \n",
    "\n",
    "        # Compute the correct classification\n",
    "        predicted_label = np.zeros(prediction.shape)\n",
    "        predicted_label = np.argmax(prediction.detach().numpy(), axis=-1)\n",
    "    loss_avg = total_loss / len(data_loader)\n",
    "    accuracy = accuracy_score(predicted_label, target)\n",
    "\n",
    "    print(f'Epoch={epoch} | loss = {total_loss/(batch_idx+1)} | accuracy = {accuracy}')\n",
    "    \n",
    "    return loss_avg, accuracy"
   ]
  },
  {
   "cell_type": "code",
   "execution_count": 5,
   "metadata": {},
   "outputs": [],
   "source": [
    "def run_prediction(model,features):\n",
    "    with torch.no_grad():\n",
    "        prediction = model(features)\n",
    "        predicted_label = np.zeros(prediction.shape)\n",
    "        predicted_label = np.argmax(prediction.detach().numpy(), axis=-1)\n",
    "    pred = F.softmax(prediction)\n",
    "    pred = pred.detach().numpy()\n",
    "    return predicted_label, np.max(pred)"
   ]
  },
  {
   "cell_type": "code",
   "execution_count": 6,
   "metadata": {},
   "outputs": [],
   "source": [
    "def compress_image(image, size):\n",
    "    U, s, V = np.linalg.svd(image,full_matrices=False)\n",
    "    op1 = np.dot(np.diag(s[:size]),V[:size,:])\n",
    "    compressed = np.dot(U[:,:size], op1)\n",
    "    return compressed"
   ]
  },
  {
   "cell_type": "code",
   "execution_count": 7,
   "metadata": {},
   "outputs": [],
   "source": [
    "def nothing(x):\n",
    "    pass"
   ]
  },
  {
   "cell_type": "code",
   "execution_count": 8,
   "metadata": {},
   "outputs": [],
   "source": [
    " def draw_on_gui(event, x, y, flags, params): #params\n",
    "    global draw, window\n",
    "    \n",
    "    if event == cv2.EVENT_LBUTTONDOWN:\n",
    "        draw=True\n",
    "        cv2.circle( window, (x,y), cv2.getTrackbarPos(\"Brush Size\", title), (255,255,255), -1 )\n",
    "        \n",
    "    elif event == cv2.EVENT_MOUSEMOVE:\n",
    "        if draw:\n",
    "            cv2.circle( window, (x,y), cv2.getTrackbarPos(\"Brush Size\", title), (255,255,255), -1 )\n",
    "    \n",
    "    elif event == cv2.EVENT_LBUTTONUP:\n",
    "        draw=False\n",
    "        cv2.circle( window, (x,y), cv2.getTrackbarPos(\"Brush Size\", title), (255,255,255), -1 )"
   ]
  },
  {
   "cell_type": "code",
   "execution_count": 9,
   "metadata": {},
   "outputs": [],
   "source": [
    "def clear_window(*args):\n",
    "    cv2.rectangle(window, (0,0), (839,839), (0,0,0),-1)\n",
    "    return window"
   ]
  },
  {
   "cell_type": "code",
   "execution_count": 10,
   "metadata": {},
   "outputs": [],
   "source": [
    "def update_loop(title, window,model):\n",
    "    count = 0\n",
    "    while True:\n",
    "        count += 1\n",
    "        cv2.imshow(title, window)\n",
    "        key = cv2.waitKey(1)\n",
    "        #print(draw)\n",
    "        if key==ord(\"q\"):\n",
    "            break\n",
    "        \n",
    "        cur = cv2.resize(window, dsize=(28, 28), interpolation=cv2.INTER_CUBIC)\n",
    "        cur = cur/255\n",
    "        \n",
    "        data = torch.tensor(cur)\n",
    "        data = data.double()\n",
    "        data.unsqueeze_(0).unsqueeze_(0)\n",
    "        pred, prob = run_prediction(model.double(),data)\n",
    "        \n",
    "        if count%100 == 0:\n",
    "            print(pred, prob)\n",
    "        \n",
    "        if count == 1000:\n",
    "            count = 0\n",
    "            \n",
    "    cv2.destroyAllWindows()\n",
    "    "
   ]
  },
  {
   "cell_type": "code",
   "execution_count": 11,
   "metadata": {},
   "outputs": [],
   "source": [
    "def show_images_from_batches(dataloader,k):\n",
    "    c = 1\n",
    "    for i, (image, target) in enumerate(dataloader):\n",
    "        plt.subplot(1, k, c)\n",
    "        plt.axis('off')\n",
    "        img = image[0,0,:,:]\n",
    "        plt.imshow(img, cmap=plt.cm.gray_r, interpolation='nearest')\n",
    "        if c==k:\n",
    "            break\n",
    "        c+=1\n",
    "    plt.show()"
   ]
  },
  {
   "cell_type": "code",
   "execution_count": 12,
   "metadata": {},
   "outputs": [
    {
     "name": "stderr",
     "output_type": "stream",
     "text": [
      "Implicit dimension choice for log_softmax has been deprecated. Change the call to include dim=X as an argument.\n"
     ]
    },
    {
     "name": "stdout",
     "output_type": "stream",
     "text": [
      "Epoch=0 | loss = 0.8491878516352507 | accuracy = 0.84375\n",
      "Epoch=0 | loss = 0.29196321964263916 | accuracy = 0.926\n",
      "Epoch=1 | loss = 0.32674883481567857 | accuracy = 0.9375\n",
      "Epoch=1 | loss = 0.19671013206243515 | accuracy = 0.955\n",
      "Epoch=2 | loss = 0.2497076038628626 | accuracy = 0.96875\n",
      "Epoch=2 | loss = 0.15029880106449128 | accuracy = 0.956\n",
      "Epoch=3 | loss = 0.20995082911143678 | accuracy = 0.9375\n",
      "Epoch=3 | loss = 0.12362290546298027 | accuracy = 0.966\n",
      "Epoch=4 | loss = 0.18534400435621295 | accuracy = 0.9375\n",
      "Epoch=4 | loss = 0.11050927862524987 | accuracy = 0.968\n",
      "Epoch=5 | loss = 0.16893185483518122 | accuracy = 1.0\n",
      "Epoch=5 | loss = 0.10128072202205658 | accuracy = 0.968\n",
      "Epoch=6 | loss = 0.15726666529374972 | accuracy = 0.875\n",
      "Epoch=6 | loss = 0.09434628784656525 | accuracy = 0.964\n",
      "Epoch=7 | loss = 0.1458711491516436 | accuracy = 1.0\n",
      "Epoch=7 | loss = 0.08740199655294419 | accuracy = 0.977\n",
      "Epoch=8 | loss = 0.14137606458988652 | accuracy = 1.0\n",
      "Epoch=8 | loss = 0.0868711568415165 | accuracy = 0.962\n",
      "Epoch=9 | loss = 0.13603673338580297 | accuracy = 0.9375\n",
      "Epoch=9 | loss = 0.08414038866758347 | accuracy = 0.982\n"
     ]
    }
   ],
   "source": [
    "cconf = cnn_config()\n",
    "\n",
    "DL_train = torch.utils.data.DataLoader(\n",
    "  torchvision.datasets.MNIST('/files/', train=True, download=True,\n",
    "                             transform=torchvision.transforms.Compose([\n",
    "                               torchvision.transforms.ToTensor(),\n",
    "                               torchvision.transforms.Normalize(\n",
    "                                 (0.1307,), (0.3081,))\n",
    "                             ])), batch_size=cconf['batch_size_train'], shuffle=True)\n",
    "\n",
    "DL_test = torch.utils.data.DataLoader(\n",
    "  torchvision.datasets.MNIST('/files/', train=False, download=True,\n",
    "                             transform=torchvision.transforms.Compose([\n",
    "                               torchvision.transforms.ToTensor(),\n",
    "                               torchvision.transforms.Normalize(\n",
    "                                 (0.1307,), (0.3081,))\n",
    "                             ])),\n",
    "  batch_size=cconf['batch_size_test'], shuffle=True)\n",
    "\n",
    "CNNmodel = CNNClassifier()\n",
    "optimizer = optim.Adam(CNNmodel.parameters(), lr=0.0001, weight_decay=0.01)#001)\n",
    "\n",
    "loss_train = np.zeros(shape=cconf['epochs'])\n",
    "acc_train = np.zeros(shape=cconf['epochs'])\n",
    "loss_test = np.zeros(shape=cconf['epochs'])\n",
    "acc_test = np.zeros(shape=cconf['epochs'])\n",
    "\n",
    "for epoch in range(cconf['epochs']):\n",
    "    loss_train[epoch],acc_train[epoch] = run_epoch(CNNmodel,epoch,DL_train,optimizer,True,cconf)\n",
    "    loss_test[epoch],acc_test[epoch] = run_epoch(CNNmodel,epoch,DL_test,optimizer,False,cconf)"
   ]
  },
  {
   "cell_type": "code",
   "execution_count": 13,
   "metadata": {},
   "outputs": [
    {
     "data": {
      "image/png": "[encoded data removed]",
      "text/plain": [
       "<Figure size 432x288 with 5 Axes>"
      ]
     },
     "metadata": {
      "needs_background": "light"
     },
     "output_type": "display_data"
    }
   ],
   "source": [
    "show_images_from_batches(DL_train,5)"
   ]
  },
  {
   "cell_type": "code",
   "execution_count": 15,
   "metadata": {
    "scrolled": true
   },
   "outputs": [
    {
     "name": "stderr",
     "output_type": "stream",
     "text": [
      "Implicit dimension choice for log_softmax has been deprecated. Change the call to include dim=X as an argument.\n",
      "Implicit dimension choice for softmax has been deprecated. Change the call to include dim=X as an argument.\n"
     ]
    },
    {
     "name": "stdout",
     "output_type": "stream",
     "text": [
      "[7] 0.12874086884015995\n",
      "[3] 0.1609397961296864\n",
      "[3] 0.304598561454685\n",
      "[7] 0.32608687808480363\n",
      "[7] 0.3454037546977105\n",
      "[7] 0.3454037546977105\n",
      "[7] 0.3630105529000046\n",
      "[7] 0.38825113370842906\n",
      "[7] 0.405315148595426\n",
      "[7] 0.405315148595426\n",
      "[7] 0.405315148595426\n",
      "[7] 0.405315148595426\n"
     ]
    }
   ],
   "source": [
    "title = \"Neural Network Guesser\"\n",
    "draw = False\n",
    "mat = np.zeros((840,840),np.uint8)#np.ones((840,840),np.uint8)*255\n",
    "\n",
    "cv2.namedWindow(title)\n",
    "\n",
    "window = cv2.rectangle(mat, (0,0), (839,839), (0,0,0),-1)\n",
    "cv2.createTrackbar(\"Brush Size\", title, 33, 50, nothing)\n",
    "cv2.createButton(\"Clear\", clear_window)\n",
    "cv2.setMouseCallback(title, draw_on_gui)\n",
    "update_loop(title, window, CNNmodel)"
   ]
  },
  {
   "cell_type": "code",
   "execution_count": 16,
   "metadata": {},
   "outputs": [
    {
     "data": {
      "text/plain": [
       "<matplotlib.image.AxesImage at 0x1d061059c50>"
      ]
     },
     "execution_count": 16,
     "metadata": {},
     "output_type": "execute_result"
    },
    {
     "data": {
      "image/png": "[encoded data removed]",
      "text/plain": [
       "<Figure size 432x288 with 1 Axes>"
      ]
     },
     "metadata": {
      "needs_background": "light"
     },
     "output_type": "display_data"
    }
   ],
   "source": [
    "plt.imshow(window, cmap=plt.cm.gray_r, interpolation='nearest')\n"
   ]
  },
  {
   "cell_type": "code",
   "execution_count": 17,
   "metadata": {},
   "outputs": [],
   "source": [
    "#ToDo: Make True GUI buttons, make a numberdisplay that updates instead of a print, \n",
    "#make a function to save image with corrsponding targetlabel, make it web\n",
    "#clean all code, make orderly filesystem"
   ]
  }
 ],
 "metadata": {
  "kernelspec": {
   "display_name": "Python 3",
   "language": "python",
   "name": "python3"
  },
  "language_info": {
   "codemirror_mode": {
    "name": "ipython",
    "version": 3
   },
   "file_extension": ".py",
   "mimetype": "text/x-python",
   "name": "python",
   "nbconvert_exporter": "python",
   "pygments_lexer": "ipython3",
   "version": "3.7.3"
  }
 },
 "nbformat": 4,
 "nbformat_minor": 5
}
